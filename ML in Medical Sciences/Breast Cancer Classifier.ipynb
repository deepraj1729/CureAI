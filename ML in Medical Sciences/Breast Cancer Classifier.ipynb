{
 "cells": [
  {
   "cell_type": "markdown",
   "metadata": {},
   "source": [
    "# Breast Cancer Classifier Using DNN"
   ]
  },
  {
   "cell_type": "markdown",
   "metadata": {},
   "source": [
    "## -- Neccessary Modules"
   ]
  },
  {
   "cell_type": "code",
   "execution_count": 80,
   "metadata": {},
   "outputs": [],
   "source": [
    "import tensorflow as tf \n",
    "from tensorflow import keras\n",
    "from sklearn import preprocessing, model_selection\n",
    "import numpy as np \n",
    "import pandas as pd "
   ]
  },
  {
   "cell_type": "markdown",
   "metadata": {},
   "source": [
    "## -- Load data of Breast Cancer from CSV"
   ]
  },
  {
   "cell_type": "code",
   "execution_count": 81,
   "metadata": {},
   "outputs": [],
   "source": [
    "df = pd.read_csv('C:\\\\Users\\\\User1\\\\Desktop\\\\ML in Medical Sciences\\\\breast-cancer-wisconsindata.csv')"
   ]
  },
  {
   "cell_type": "code",
   "execution_count": 82,
   "metadata": {},
   "outputs": [
    {
     "data": {
      "text/html": [
       "<div>\n",
       "<style scoped>\n",
       "    .dataframe tbody tr th:only-of-type {\n",
       "        vertical-align: middle;\n",
       "    }\n",
       "\n",
       "    .dataframe tbody tr th {\n",
       "        vertical-align: top;\n",
       "    }\n",
       "\n",
       "    .dataframe thead th {\n",
       "        text-align: right;\n",
       "    }\n",
       "</style>\n",
       "<table border=\"1\" class=\"dataframe\">\n",
       "  <thead>\n",
       "    <tr style=\"text-align: right;\">\n",
       "      <th></th>\n",
       "      <th>id</th>\n",
       "      <th>clump_thickness</th>\n",
       "      <th>unif_cell_size</th>\n",
       "      <th>unif_cell_shape</th>\n",
       "      <th>marg_adhesion</th>\n",
       "      <th>single_epith_cell_size</th>\n",
       "      <th>bare_nuclei</th>\n",
       "      <th>bland_chrom</th>\n",
       "      <th>norm_nucleoli</th>\n",
       "      <th>mitoses</th>\n",
       "      <th>class</th>\n",
       "    </tr>\n",
       "  </thead>\n",
       "  <tbody>\n",
       "    <tr>\n",
       "      <td>0</td>\n",
       "      <td>1000025</td>\n",
       "      <td>5</td>\n",
       "      <td>1</td>\n",
       "      <td>1</td>\n",
       "      <td>1</td>\n",
       "      <td>2</td>\n",
       "      <td>1</td>\n",
       "      <td>3</td>\n",
       "      <td>1</td>\n",
       "      <td>1</td>\n",
       "      <td>0</td>\n",
       "    </tr>\n",
       "    <tr>\n",
       "      <td>1</td>\n",
       "      <td>1002945</td>\n",
       "      <td>5</td>\n",
       "      <td>4</td>\n",
       "      <td>4</td>\n",
       "      <td>5</td>\n",
       "      <td>7</td>\n",
       "      <td>10</td>\n",
       "      <td>3</td>\n",
       "      <td>2</td>\n",
       "      <td>1</td>\n",
       "      <td>0</td>\n",
       "    </tr>\n",
       "    <tr>\n",
       "      <td>2</td>\n",
       "      <td>1015425</td>\n",
       "      <td>3</td>\n",
       "      <td>1</td>\n",
       "      <td>1</td>\n",
       "      <td>1</td>\n",
       "      <td>2</td>\n",
       "      <td>2</td>\n",
       "      <td>3</td>\n",
       "      <td>1</td>\n",
       "      <td>1</td>\n",
       "      <td>0</td>\n",
       "    </tr>\n",
       "    <tr>\n",
       "      <td>3</td>\n",
       "      <td>1016277</td>\n",
       "      <td>6</td>\n",
       "      <td>8</td>\n",
       "      <td>8</td>\n",
       "      <td>1</td>\n",
       "      <td>3</td>\n",
       "      <td>4</td>\n",
       "      <td>3</td>\n",
       "      <td>7</td>\n",
       "      <td>1</td>\n",
       "      <td>0</td>\n",
       "    </tr>\n",
       "    <tr>\n",
       "      <td>4</td>\n",
       "      <td>1017023</td>\n",
       "      <td>4</td>\n",
       "      <td>1</td>\n",
       "      <td>1</td>\n",
       "      <td>3</td>\n",
       "      <td>2</td>\n",
       "      <td>1</td>\n",
       "      <td>3</td>\n",
       "      <td>1</td>\n",
       "      <td>1</td>\n",
       "      <td>0</td>\n",
       "    </tr>\n",
       "  </tbody>\n",
       "</table>\n",
       "</div>"
      ],
      "text/plain": [
       "        id  clump_thickness  unif_cell_size  unif_cell_shape  marg_adhesion  \\\n",
       "0  1000025                5               1                1              1   \n",
       "1  1002945                5               4                4              5   \n",
       "2  1015425                3               1                1              1   \n",
       "3  1016277                6               8                8              1   \n",
       "4  1017023                4               1                1              3   \n",
       "\n",
       "   single_epith_cell_size bare_nuclei  bland_chrom  norm_nucleoli  mitoses  \\\n",
       "0                       2           1            3              1        1   \n",
       "1                       7          10            3              2        1   \n",
       "2                       2           2            3              1        1   \n",
       "3                       3           4            3              7        1   \n",
       "4                       2           1            3              1        1   \n",
       "\n",
       "   class  \n",
       "0      0  \n",
       "1      0  \n",
       "2      0  \n",
       "3      0  \n",
       "4      0  "
      ]
     },
     "execution_count": 82,
     "metadata": {},
     "output_type": "execute_result"
    }
   ],
   "source": [
    "df.head()"
   ]
  },
  {
   "cell_type": "code",
   "execution_count": 83,
   "metadata": {},
   "outputs": [],
   "source": [
    "df.replace('?',-99999, inplace = True)\n",
    "df.drop(['id'], 1, inplace = True)"
   ]
  },
  {
   "cell_type": "markdown",
   "metadata": {},
   "source": [
    "## -- Converting Data into Numpy Arrays ( For Sake of Convenience)"
   ]
  },
  {
   "cell_type": "code",
   "execution_count": 84,
   "metadata": {},
   "outputs": [],
   "source": [
    "X = np.array(df.drop(['class'],1))\n",
    "y = np.array(df['class'])\n",
    "y.shape = (len(y),1)  "
   ]
  },
  {
   "cell_type": "markdown",
   "metadata": {},
   "source": [
    "## -- Splitting Data into Training And Testing Datasets"
   ]
  },
  {
   "cell_type": "code",
   "execution_count": 85,
   "metadata": {},
   "outputs": [],
   "source": [
    "x_train ,x_test , y_train, y_test = model_selection.train_test_split(X,y, test_size = 0.4) "
   ]
  },
  {
   "cell_type": "markdown",
   "metadata": {},
   "source": [
    "## -- Scaling Data for Better Modelling (Only x values)"
   ]
  },
  {
   "cell_type": "code",
   "execution_count": 86,
   "metadata": {},
   "outputs": [],
   "source": [
    "x_f_train = preprocessing.scale(x_train)\n",
    "x_f_test = preprocessing.scale(x_test)\n",
    "y_f_train = y_train\n",
    "y_f_test = y_test"
   ]
  },
  {
   "cell_type": "markdown",
   "metadata": {},
   "source": [
    "## -- Using DNN Model for Training Data "
   ]
  },
  {
   "cell_type": "code",
   "execution_count": 87,
   "metadata": {},
   "outputs": [],
   "source": [
    "model = tf.keras.models.Sequential()\n",
    "model.add(tf.keras.layers.Flatten())\n",
    "model.add(tf.keras.layers.Dense(200,activation = tf.nn.relu))\n",
    "model.add(tf.keras.layers.Dense(300,activation = tf.nn.relu))\n",
    "model.add(tf.keras.layers.Dense(2,activation = tf.nn.softmax))\n",
    "\n",
    "\n",
    "model.compile(optimizer = tf.train.AdamOptimizer(),\n",
    "       loss = 'sparse_categorical_crossentropy',\n",
    "       metrics=['accuracy'])"
   ]
  },
  {
   "cell_type": "markdown",
   "metadata": {},
   "source": [
    "## -- Fitting Data into Model "
   ]
  },
  {
   "cell_type": "code",
   "execution_count": 88,
   "metadata": {},
   "outputs": [
    {
     "name": "stdout",
     "output_type": "stream",
     "text": [
      "Epoch 1/100\n",
      "419/419 [==============================] - 0s 384us/sample - loss: 0.3091 - acc: 0.9379\n",
      "Epoch 2/100\n",
      "419/419 [==============================] - 0s 93us/sample - loss: 0.1093 - acc: 0.9714\n",
      "Epoch 3/100\n",
      "419/419 [==============================] - 0s 81us/sample - loss: 0.0936 - acc: 0.9666\n",
      "Epoch 4/100\n",
      "419/419 [==============================] - 0s 75us/sample - loss: 0.0877 - acc: 0.9690\n",
      "Epoch 5/100\n",
      "419/419 [==============================] - 0s 76us/sample - loss: 0.0814 - acc: 0.9737\n",
      "Epoch 6/100\n",
      "419/419 [==============================] - 0s 86us/sample - loss: 0.0783 - acc: 0.9737\n",
      "Epoch 7/100\n",
      "419/419 [==============================] - 0s 84us/sample - loss: 0.0744 - acc: 0.9737\n",
      "Epoch 8/100\n",
      "419/419 [==============================] - 0s 79us/sample - loss: 0.0719 - acc: 0.9737\n",
      "Epoch 9/100\n",
      "419/419 [==============================] - 0s 78us/sample - loss: 0.0688 - acc: 0.9785\n",
      "Epoch 10/100\n",
      "419/419 [==============================] - 0s 81us/sample - loss: 0.0677 - acc: 0.9785\n",
      "Epoch 11/100\n",
      "419/419 [==============================] - 0s 88us/sample - loss: 0.0648 - acc: 0.9785\n",
      "Epoch 12/100\n",
      "419/419 [==============================] - 0s 97us/sample - loss: 0.0643 - acc: 0.9809\n",
      "Epoch 13/100\n",
      "419/419 [==============================] - 0s 85us/sample - loss: 0.0617 - acc: 0.9857\n",
      "Epoch 14/100\n",
      "419/419 [==============================] - 0s 83us/sample - loss: 0.0584 - acc: 0.9833\n",
      "Epoch 15/100\n",
      "419/419 [==============================] - 0s 117us/sample - loss: 0.0553 - acc: 0.9833\n",
      "Epoch 16/100\n",
      "419/419 [==============================] - 0s 89us/sample - loss: 0.0553 - acc: 0.9785\n",
      "Epoch 17/100\n",
      "419/419 [==============================] - 0s 79us/sample - loss: 0.0535 - acc: 0.9833\n",
      "Epoch 18/100\n",
      "419/419 [==============================] - 0s 80us/sample - loss: 0.0504 - acc: 0.9857\n",
      "Epoch 19/100\n",
      "419/419 [==============================] - 0s 90us/sample - loss: 0.0493 - acc: 0.9857\n",
      "Epoch 20/100\n",
      "419/419 [==============================] - 0s 81us/sample - loss: 0.0461 - acc: 0.9857\n",
      "Epoch 21/100\n",
      "419/419 [==============================] - 0s 83us/sample - loss: 0.0450 - acc: 0.9857\n",
      "Epoch 22/100\n",
      "419/419 [==============================] - 0s 76us/sample - loss: 0.0415 - acc: 0.9881\n",
      "Epoch 23/100\n",
      "419/419 [==============================] - 0s 80us/sample - loss: 0.0410 - acc: 0.9857\n",
      "Epoch 24/100\n",
      "419/419 [==============================] - 0s 81us/sample - loss: 0.0718 - acc: 0.9785\n",
      "Epoch 25/100\n",
      "419/419 [==============================] - 0s 84us/sample - loss: 0.0508 - acc: 0.9809\n",
      "Epoch 26/100\n",
      "419/419 [==============================] - 0s 85us/sample - loss: 0.0452 - acc: 0.9833\n",
      "Epoch 27/100\n",
      "419/419 [==============================] - 0s 95us/sample - loss: 0.0389 - acc: 0.9881\n",
      "Epoch 28/100\n",
      "419/419 [==============================] - 0s 88us/sample - loss: 0.0359 - acc: 0.9905\n",
      "Epoch 29/100\n",
      "419/419 [==============================] - 0s 82us/sample - loss: 0.0341 - acc: 0.9905\n",
      "Epoch 30/100\n",
      "419/419 [==============================] - 0s 84us/sample - loss: 0.0310 - acc: 0.9928\n",
      "Epoch 31/100\n",
      "419/419 [==============================] - 0s 75us/sample - loss: 0.0294 - acc: 0.9905\n",
      "Epoch 32/100\n",
      "419/419 [==============================] - 0s 82us/sample - loss: 0.0297 - acc: 0.9905\n",
      "Epoch 33/100\n",
      "419/419 [==============================] - 0s 88us/sample - loss: 0.0266 - acc: 0.9928\n",
      "Epoch 34/100\n",
      "419/419 [==============================] - 0s 79us/sample - loss: 0.0254 - acc: 0.9928\n",
      "Epoch 35/100\n",
      "419/419 [==============================] - 0s 83us/sample - loss: 0.0245 - acc: 0.9928\n",
      "Epoch 36/100\n",
      "419/419 [==============================] - 0s 89us/sample - loss: 0.0225 - acc: 0.9928\n",
      "Epoch 37/100\n",
      "419/419 [==============================] - 0s 94us/sample - loss: 0.0290 - acc: 0.9881\n",
      "Epoch 38/100\n",
      "419/419 [==============================] - 0s 83us/sample - loss: 0.0249 - acc: 0.9905\n",
      "Epoch 39/100\n",
      "419/419 [==============================] - 0s 82us/sample - loss: 0.0221 - acc: 0.9928\n",
      "Epoch 40/100\n",
      "419/419 [==============================] - 0s 81us/sample - loss: 0.0199 - acc: 0.9928\n",
      "Epoch 41/100\n",
      "419/419 [==============================] - 0s 83us/sample - loss: 0.0406 - acc: 0.9881\n",
      "Epoch 42/100\n",
      "419/419 [==============================] - 0s 117us/sample - loss: 0.0323 - acc: 0.9857\n",
      "Epoch 43/100\n",
      "419/419 [==============================] - 0s 86us/sample - loss: 0.0210 - acc: 0.9928\n",
      "Epoch 44/100\n",
      "419/419 [==============================] - 0s 84us/sample - loss: 0.0184 - acc: 0.9928\n",
      "Epoch 45/100\n",
      "419/419 [==============================] - 0s 84us/sample - loss: 0.0175 - acc: 0.9952\n",
      "Epoch 46/100\n",
      "419/419 [==============================] - 0s 83us/sample - loss: 0.0155 - acc: 0.9976\n",
      "Epoch 47/100\n",
      "419/419 [==============================] - 0s 81us/sample - loss: 0.0154 - acc: 0.9976\n",
      "Epoch 48/100\n",
      "419/419 [==============================] - 0s 76us/sample - loss: 0.0146 - acc: 0.9976\n",
      "Epoch 49/100\n",
      "419/419 [==============================] - 0s 95us/sample - loss: 0.0143 - acc: 0.9976\n",
      "Epoch 50/100\n",
      "419/419 [==============================] - 0s 85us/sample - loss: 0.0127 - acc: 0.9976\n",
      "Epoch 51/100\n",
      "419/419 [==============================] - 0s 92us/sample - loss: 0.0128 - acc: 0.9976\n",
      "Epoch 52/100\n",
      "419/419 [==============================] - 0s 91us/sample - loss: 0.0129 - acc: 0.9976\n",
      "Epoch 53/100\n",
      "419/419 [==============================] - 0s 89us/sample - loss: 0.0124 - acc: 0.9976\n",
      "Epoch 54/100\n",
      "419/419 [==============================] - 0s 100us/sample - loss: 0.0112 - acc: 0.9976\n",
      "Epoch 55/100\n",
      "419/419 [==============================] - 0s 95us/sample - loss: 0.0109 - acc: 0.9976\n",
      "Epoch 56/100\n",
      "419/419 [==============================] - 0s 83us/sample - loss: 0.0110 - acc: 0.9976\n",
      "Epoch 57/100\n",
      "419/419 [==============================] - 0s 78us/sample - loss: 0.0101 - acc: 0.9976\n",
      "Epoch 58/100\n",
      "419/419 [==============================] - 0s 89us/sample - loss: 0.0100 - acc: 0.9976\n",
      "Epoch 59/100\n",
      "419/419 [==============================] - 0s 90us/sample - loss: 0.0118 - acc: 0.9976\n",
      "Epoch 60/100\n",
      "419/419 [==============================] - 0s 95us/sample - loss: 0.0131 - acc: 0.9952\n",
      "Epoch 61/100\n",
      "419/419 [==============================] - 0s 93us/sample - loss: 0.0096 - acc: 0.9976\n",
      "Epoch 62/100\n",
      "419/419 [==============================] - 0s 91us/sample - loss: 0.0111 - acc: 0.9976\n",
      "Epoch 63/100\n",
      "419/419 [==============================] - 0s 95us/sample - loss: 0.0093 - acc: 0.9976\n",
      "Epoch 64/100\n",
      "419/419 [==============================] - 0s 86us/sample - loss: 0.0087 - acc: 0.9952\n",
      "Epoch 65/100\n",
      "419/419 [==============================] - 0s 86us/sample - loss: 0.0086 - acc: 0.9976\n",
      "Epoch 66/100\n",
      "419/419 [==============================] - 0s 91us/sample - loss: 0.0087 - acc: 0.9976\n",
      "Epoch 67/100\n",
      "419/419 [==============================] - 0s 88us/sample - loss: 0.0089 - acc: 0.9976\n",
      "Epoch 68/100\n",
      "419/419 [==============================] - 0s 90us/sample - loss: 0.0082 - acc: 0.9952\n",
      "Epoch 69/100\n",
      "419/419 [==============================] - 0s 112us/sample - loss: 0.0072 - acc: 0.9952\n",
      "Epoch 70/100\n",
      "419/419 [==============================] - 0s 79us/sample - loss: 0.0079 - acc: 0.9976\n",
      "Epoch 71/100\n",
      "419/419 [==============================] - 0s 82us/sample - loss: 0.0070 - acc: 0.9976\n",
      "Epoch 72/100\n",
      "419/419 [==============================] - ETA: 0s - loss: 0.0019 - acc: 1.000 - 0s 80us/sample - loss: 0.0085 - acc: 0.9928\n",
      "Epoch 73/100\n",
      "419/419 [==============================] - 0s 90us/sample - loss: 0.0077 - acc: 0.9952\n",
      "Epoch 74/100\n",
      "419/419 [==============================] - 0s 95us/sample - loss: 0.0072 - acc: 0.9976\n",
      "Epoch 75/100\n",
      "419/419 [==============================] - 0s 94us/sample - loss: 0.0073 - acc: 0.9952\n",
      "Epoch 76/100\n",
      "419/419 [==============================] - 0s 95us/sample - loss: 0.0063 - acc: 0.9976\n",
      "Epoch 77/100\n",
      "419/419 [==============================] - 0s 79us/sample - loss: 0.0067 - acc: 0.9976\n",
      "Epoch 78/100\n",
      "419/419 [==============================] - 0s 80us/sample - loss: 0.0064 - acc: 0.9976\n",
      "Epoch 79/100\n",
      "419/419 [==============================] - 0s 90us/sample - loss: 0.0065 - acc: 0.9976\n",
      "Epoch 80/100\n",
      "419/419 [==============================] - 0s 73us/sample - loss: 0.0057 - acc: 0.9976\n",
      "Epoch 81/100\n",
      "419/419 [==============================] - 0s 80us/sample - loss: 0.0059 - acc: 0.9976\n",
      "Epoch 82/100\n"
     ]
    },
    {
     "name": "stdout",
     "output_type": "stream",
     "text": [
      "419/419 [==============================] - 0s 86us/sample - loss: 0.0079 - acc: 0.9952\n",
      "Epoch 83/100\n",
      "419/419 [==============================] - 0s 82us/sample - loss: 0.0065 - acc: 0.9976\n",
      "Epoch 84/100\n",
      "419/419 [==============================] - 0s 79us/sample - loss: 0.0054 - acc: 0.9976\n",
      "Epoch 85/100\n",
      "419/419 [==============================] - 0s 76us/sample - loss: 0.0057 - acc: 0.9952\n",
      "Epoch 86/100\n",
      "419/419 [==============================] - 0s 71us/sample - loss: 0.0056 - acc: 0.9952\n",
      "Epoch 87/100\n",
      "419/419 [==============================] - 0s 75us/sample - loss: 0.0054 - acc: 0.9976\n",
      "Epoch 88/100\n",
      "419/419 [==============================] - 0s 76us/sample - loss: 0.0062 - acc: 0.9952\n",
      "Epoch 89/100\n",
      "419/419 [==============================] - 0s 75us/sample - loss: 0.0068 - acc: 0.9976\n",
      "Epoch 90/100\n",
      "419/419 [==============================] - 0s 76us/sample - loss: 0.0054 - acc: 0.9976\n",
      "Epoch 91/100\n",
      "419/419 [==============================] - 0s 90us/sample - loss: 0.0056 - acc: 0.9976\n",
      "Epoch 92/100\n",
      "419/419 [==============================] - 0s 77us/sample - loss: 0.0071 - acc: 0.9952\n",
      "Epoch 93/100\n",
      "419/419 [==============================] - 0s 74us/sample - loss: 0.0054 - acc: 0.9952\n",
      "Epoch 94/100\n",
      "419/419 [==============================] - 0s 75us/sample - loss: 0.0053 - acc: 0.9976\n",
      "Epoch 95/100\n",
      "419/419 [==============================] - 0s 66us/sample - loss: 0.0047 - acc: 0.9976\n",
      "Epoch 96/100\n",
      "419/419 [==============================] - 0s 69us/sample - loss: 0.0049 - acc: 0.9976\n",
      "Epoch 97/100\n",
      "419/419 [==============================] - 0s 69us/sample - loss: 0.0054 - acc: 0.9976\n",
      "Epoch 98/100\n",
      "419/419 [==============================] - 0s 117us/sample - loss: 0.0063 - acc: 0.9952\n",
      "Epoch 99/100\n",
      "419/419 [==============================] - 0s 71us/sample - loss: 0.0049 - acc: 0.9952\n",
      "Epoch 100/100\n",
      "419/419 [==============================] - 0s 71us/sample - loss: 0.0047 - acc: 0.9976\n"
     ]
    },
    {
     "data": {
      "text/plain": [
       "<tensorflow.python.keras.callbacks.History at 0x1ca15ea9470>"
      ]
     },
     "execution_count": 88,
     "metadata": {},
     "output_type": "execute_result"
    }
   ],
   "source": [
    "model.fit(x_f_train,y_f_train, epochs = 100)"
   ]
  },
  {
   "cell_type": "markdown",
   "metadata": {},
   "source": [
    "## -- Checking Trained Data For Overfitting and Underfitting over tested data"
   ]
  },
  {
   "cell_type": "code",
   "execution_count": 89,
   "metadata": {},
   "outputs": [
    {
     "name": "stdout",
     "output_type": "stream",
     "text": [
      "280/280 [==============================] - 0s 317us/sample - loss: 0.1994 - acc: 0.9714\n",
      "Loss % = 19.944452387849847 , Accuracy % = 97.14285731315613 \n"
     ]
    }
   ],
   "source": [
    "val_loss,val_acc = model.evaluate(x_f_test,y_f_test)\n",
    "print(\"Loss % = {} , Accuracy % = {} \".format(val_loss*100,val_acc*100))"
   ]
  },
  {
   "cell_type": "markdown",
   "metadata": {},
   "source": [
    "## -- Predicting Breast Cancer Type of Test Data from Trained Data "
   ]
  },
  {
   "cell_type": "code",
   "execution_count": 90,
   "metadata": {},
   "outputs": [],
   "source": [
    "# [1,0] = Benign\n",
    "# [0,1] = Malignant\n",
    "\n",
    "arr = np.array([[1,0],[0,1]])"
   ]
  },
  {
   "cell_type": "code",
   "execution_count": 91,
   "metadata": {},
   "outputs": [
    {
     "name": "stdout",
     "output_type": "stream",
     "text": [
      "_____________________________________________________\n",
      "_____________________________________________________\n",
      "Predicted NO. of Benign Breast Cancers = 176\n",
      "Predicted NO. of Malignant Breast Cancers = 104\n",
      "Total tested data = 280\n",
      "_____________________________________________________\n",
      "Original NO. of Benign Breast Cancers = 180\n",
      "Original NO. of Malignant Breast Cancers = 100\n",
      "Total tested data = 280\n",
      "_____________________________________________________\n",
      "Accuracy = 97.14285731315613%\n"
     ]
    }
   ],
   "source": [
    "z = np.round(model.predict(x_f_test))\n",
    "\n",
    "print('_____________________________________________________')\n",
    "#print(\"Prediction : P-Class : O-Class \")\n",
    "\n",
    "c1=c2=c3=c4=0  #counter variables\n",
    "\n",
    "for i in range(0,len(z)):\n",
    "    if np.array_equal(z[i],arr[0]):\n",
    "        #print(\"{}  :  {} :  {}\".format(z[i],0,y_test[i]))\n",
    "        c1+=1\n",
    "    elif np.array_equal(z[i],arr[1]):\n",
    "        #print(\"{}  :  {} :  {}\".format(z[i],1,y_test[i]))\n",
    "        c2+=1\n",
    "\n",
    "\n",
    "print('_____________________________________________________')\n",
    "print(\"Predicted NO. of Benign Breast Cancers = {}\".format(c1))\n",
    "print(\"Predicted NO. of Malignant Breast Cancers = {}\".format(c2))\n",
    "print(\"Total tested data = {}\".format(len(z)))\n",
    "\n",
    "m = y_test\n",
    "\n",
    "print('_____________________________________________________')\n",
    "\n",
    "for i in range(0,len(m)):\n",
    "    if m[i] == 0:\n",
    "        c3+=1\n",
    "    elif m[i] == 1 :\n",
    "        c4+=1 \n",
    "\n",
    "\n",
    "\n",
    "print(\"Original NO. of Benign Breast Cancers = {}\".format(c3))\n",
    "print(\"Original NO. of Malignant Breast Cancers = {}\".format(c4))\n",
    "print(\"Total tested data = {}\".format(len(x_test)))\n",
    "\n",
    "print('_____________________________________________________')\n",
    "print('Accuracy = {}%'.format((val_acc*100)))"
   ]
  }
 ],
 "metadata": {
  "kernelspec": {
   "display_name": "Python 3",
   "language": "python",
   "name": "python3"
  },
  "language_info": {
   "codemirror_mode": {
    "name": "ipython",
    "version": 3
   },
   "file_extension": ".py",
   "mimetype": "text/x-python",
   "name": "python",
   "nbconvert_exporter": "python",
   "pygments_lexer": "ipython3",
   "version": "3.7.3"
  }
 },
 "nbformat": 4,
 "nbformat_minor": 2
}

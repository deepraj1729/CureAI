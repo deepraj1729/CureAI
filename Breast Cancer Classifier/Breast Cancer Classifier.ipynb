{
 "cells": [
  {
   "cell_type": "markdown",
   "metadata": {},
   "source": [
    "# Breast Cancer Classifier Using DNN"
   ]
  },
  {
   "cell_type": "markdown",
   "metadata": {},
   "source": [
    "## -- Neccessary Modules"
   ]
  },
  {
   "cell_type": "code",
   "execution_count": 1,
   "metadata": {},
   "outputs": [],
   "source": [
    "import tensorflow as tf \n",
    "from tensorflow import keras\n",
    "from sklearn import preprocessing, model_selection\n",
    "import numpy as np \n",
    "import pandas as pd "
   ]
  },
  {
   "cell_type": "markdown",
   "metadata": {},
   "source": [
    "## -- Load data of Breast Cancer from CSV"
   ]
  },
  {
   "cell_type": "code",
   "execution_count": 2,
   "metadata": {},
   "outputs": [],
   "source": [
    "df = pd.read_csv('C:\\\\Users\\\\User1\\\\Desktop\\\\Breast Cancer Classifier\\\\breast-cancer-wisconsindata.csv')"
   ]
  },
  {
   "cell_type": "code",
   "execution_count": 3,
   "metadata": {},
   "outputs": [
    {
     "data": {
      "text/html": [
       "<div>\n",
       "<style scoped>\n",
       "    .dataframe tbody tr th:only-of-type {\n",
       "        vertical-align: middle;\n",
       "    }\n",
       "\n",
       "    .dataframe tbody tr th {\n",
       "        vertical-align: top;\n",
       "    }\n",
       "\n",
       "    .dataframe thead th {\n",
       "        text-align: right;\n",
       "    }\n",
       "</style>\n",
       "<table border=\"1\" class=\"dataframe\">\n",
       "  <thead>\n",
       "    <tr style=\"text-align: right;\">\n",
       "      <th></th>\n",
       "      <th>id</th>\n",
       "      <th>clump_thickness</th>\n",
       "      <th>unif_cell_size</th>\n",
       "      <th>unif_cell_shape</th>\n",
       "      <th>marg_adhesion</th>\n",
       "      <th>single_epith_cell_size</th>\n",
       "      <th>bare_nuclei</th>\n",
       "      <th>bland_chrom</th>\n",
       "      <th>norm_nucleoli</th>\n",
       "      <th>mitoses</th>\n",
       "      <th>class</th>\n",
       "    </tr>\n",
       "  </thead>\n",
       "  <tbody>\n",
       "    <tr>\n",
       "      <td>0</td>\n",
       "      <td>1000025</td>\n",
       "      <td>5</td>\n",
       "      <td>1</td>\n",
       "      <td>1</td>\n",
       "      <td>1</td>\n",
       "      <td>2</td>\n",
       "      <td>1</td>\n",
       "      <td>3</td>\n",
       "      <td>1</td>\n",
       "      <td>1</td>\n",
       "      <td>0</td>\n",
       "    </tr>\n",
       "    <tr>\n",
       "      <td>1</td>\n",
       "      <td>1002945</td>\n",
       "      <td>5</td>\n",
       "      <td>4</td>\n",
       "      <td>4</td>\n",
       "      <td>5</td>\n",
       "      <td>7</td>\n",
       "      <td>10</td>\n",
       "      <td>3</td>\n",
       "      <td>2</td>\n",
       "      <td>1</td>\n",
       "      <td>0</td>\n",
       "    </tr>\n",
       "    <tr>\n",
       "      <td>2</td>\n",
       "      <td>1015425</td>\n",
       "      <td>3</td>\n",
       "      <td>1</td>\n",
       "      <td>1</td>\n",
       "      <td>1</td>\n",
       "      <td>2</td>\n",
       "      <td>2</td>\n",
       "      <td>3</td>\n",
       "      <td>1</td>\n",
       "      <td>1</td>\n",
       "      <td>0</td>\n",
       "    </tr>\n",
       "    <tr>\n",
       "      <td>3</td>\n",
       "      <td>1016277</td>\n",
       "      <td>6</td>\n",
       "      <td>8</td>\n",
       "      <td>8</td>\n",
       "      <td>1</td>\n",
       "      <td>3</td>\n",
       "      <td>4</td>\n",
       "      <td>3</td>\n",
       "      <td>7</td>\n",
       "      <td>1</td>\n",
       "      <td>0</td>\n",
       "    </tr>\n",
       "    <tr>\n",
       "      <td>4</td>\n",
       "      <td>1017023</td>\n",
       "      <td>4</td>\n",
       "      <td>1</td>\n",
       "      <td>1</td>\n",
       "      <td>3</td>\n",
       "      <td>2</td>\n",
       "      <td>1</td>\n",
       "      <td>3</td>\n",
       "      <td>1</td>\n",
       "      <td>1</td>\n",
       "      <td>0</td>\n",
       "    </tr>\n",
       "  </tbody>\n",
       "</table>\n",
       "</div>"
      ],
      "text/plain": [
       "        id  clump_thickness  unif_cell_size  unif_cell_shape  marg_adhesion  \\\n",
       "0  1000025                5               1                1              1   \n",
       "1  1002945                5               4                4              5   \n",
       "2  1015425                3               1                1              1   \n",
       "3  1016277                6               8                8              1   \n",
       "4  1017023                4               1                1              3   \n",
       "\n",
       "   single_epith_cell_size bare_nuclei  bland_chrom  norm_nucleoli  mitoses  \\\n",
       "0                       2           1            3              1        1   \n",
       "1                       7          10            3              2        1   \n",
       "2                       2           2            3              1        1   \n",
       "3                       3           4            3              7        1   \n",
       "4                       2           1            3              1        1   \n",
       "\n",
       "   class  \n",
       "0      0  \n",
       "1      0  \n",
       "2      0  \n",
       "3      0  \n",
       "4      0  "
      ]
     },
     "execution_count": 3,
     "metadata": {},
     "output_type": "execute_result"
    }
   ],
   "source": [
    "df.head()"
   ]
  },
  {
   "cell_type": "code",
   "execution_count": 4,
   "metadata": {},
   "outputs": [],
   "source": [
    "df.replace('?',-99999, inplace = True)\n",
    "df.drop(['id'], 1, inplace = True)"
   ]
  },
  {
   "cell_type": "markdown",
   "metadata": {},
   "source": [
    "## -- Converting Data into Numpy Arrays ( For Sake of Convenience)"
   ]
  },
  {
   "cell_type": "code",
   "execution_count": 5,
   "metadata": {},
   "outputs": [],
   "source": [
    "X = np.array(df.drop(['class'],1))\n",
    "y = np.array(df['class'])\n",
    "y.shape = (len(y),1)  "
   ]
  },
  {
   "cell_type": "markdown",
   "metadata": {},
   "source": [
    "## -- Splitting Data into Training And Testing Datasets"
   ]
  },
  {
   "cell_type": "code",
   "execution_count": 6,
   "metadata": {},
   "outputs": [],
   "source": [
    "x_train ,x_test , y_train, y_test = model_selection.train_test_split(X,y, test_size = 0.4) "
   ]
  },
  {
   "cell_type": "markdown",
   "metadata": {},
   "source": [
    "## -- Scaling Data for Better Modelling (Only x values)"
   ]
  },
  {
   "cell_type": "code",
   "execution_count": 7,
   "metadata": {},
   "outputs": [],
   "source": [
    "x_f_train = preprocessing.scale(x_train)\n",
    "x_f_test = preprocessing.scale(x_test)\n",
    "y_f_train = y_train\n",
    "y_f_test = y_test"
   ]
  },
  {
   "cell_type": "markdown",
   "metadata": {},
   "source": [
    "## -- Using DNN Model for Training Data "
   ]
  },
  {
   "cell_type": "code",
   "execution_count": 8,
   "metadata": {},
   "outputs": [
    {
     "name": "stdout",
     "output_type": "stream",
     "text": [
      "WARNING:tensorflow:From C:\\Users\\User1\\Anaconda3\\lib\\site-packages\\tensorflow\\python\\ops\\init_ops.py:1251: calling VarianceScaling.__init__ (from tensorflow.python.ops.init_ops) with dtype is deprecated and will be removed in a future version.\n",
      "Instructions for updating:\n",
      "Call initializer instance with the dtype argument instead of passing it to the constructor\n"
     ]
    }
   ],
   "source": [
    "model = tf.keras.models.Sequential()\n",
    "model.add(tf.keras.layers.Flatten())\n",
    "model.add(tf.keras.layers.Dense(200,activation = tf.nn.relu))\n",
    "model.add(tf.keras.layers.Dense(300,activation = tf.nn.relu))\n",
    "model.add(tf.keras.layers.Dense(2,activation = tf.nn.softmax))\n",
    "\n",
    "\n",
    "model.compile(optimizer = tf.train.AdamOptimizer(),\n",
    "       loss = 'sparse_categorical_crossentropy',\n",
    "       metrics=['accuracy'])"
   ]
  },
  {
   "cell_type": "markdown",
   "metadata": {},
   "source": [
    "## -- Fitting Data into Model "
   ]
  },
  {
   "cell_type": "code",
   "execution_count": 9,
   "metadata": {},
   "outputs": [
    {
     "name": "stdout",
     "output_type": "stream",
     "text": [
      "Epoch 1/100\n",
      "419/419 [==============================] - 0s 318us/sample - loss: 0.3254 - acc: 0.9141\n",
      "Epoch 2/100\n",
      "419/419 [==============================] - 0s 71us/sample - loss: 0.1042 - acc: 0.9570\n",
      "Epoch 3/100\n",
      "419/419 [==============================] - 0s 62us/sample - loss: 0.0930 - acc: 0.9523\n",
      "Epoch 4/100\n",
      "419/419 [==============================] - 0s 88us/sample - loss: 0.0857 - acc: 0.9570\n",
      "Epoch 5/100\n",
      "419/419 [==============================] - 0s 67us/sample - loss: 0.0764 - acc: 0.9642\n",
      "Epoch 6/100\n",
      "419/419 [==============================] - 0s 62us/sample - loss: 0.0733 - acc: 0.9714\n",
      "Epoch 7/100\n",
      "419/419 [==============================] - 0s 117us/sample - loss: 0.0704 - acc: 0.9737\n",
      "Epoch 8/100\n",
      "419/419 [==============================] - 0s 61us/sample - loss: 0.0663 - acc: 0.9737\n",
      "Epoch 9/100\n",
      "419/419 [==============================] - 0s 71us/sample - loss: 0.0648 - acc: 0.9714\n",
      "Epoch 10/100\n",
      "419/419 [==============================] - 0s 68us/sample - loss: 0.0626 - acc: 0.9785\n",
      "Epoch 11/100\n",
      "419/419 [==============================] - 0s 61us/sample - loss: 0.0596 - acc: 0.9737\n",
      "Epoch 12/100\n",
      "419/419 [==============================] - 0s 112us/sample - loss: 0.0555 - acc: 0.9785\n",
      "Epoch 13/100\n",
      "419/419 [==============================] - 0s 61us/sample - loss: 0.0546 - acc: 0.9761\n",
      "Epoch 14/100\n",
      "419/419 [==============================] - 0s 66us/sample - loss: 0.0527 - acc: 0.9785\n",
      "Epoch 15/100\n",
      "419/419 [==============================] - 0s 63us/sample - loss: 0.0512 - acc: 0.9737\n",
      "Epoch 16/100\n",
      "419/419 [==============================] - 0s 78us/sample - loss: 0.0518 - acc: 0.9857\n",
      "Epoch 17/100\n",
      "419/419 [==============================] - 0s 60us/sample - loss: 0.0486 - acc: 0.9809\n",
      "Epoch 18/100\n",
      "419/419 [==============================] - 0s 77us/sample - loss: 0.0453 - acc: 0.9809\n",
      "Epoch 19/100\n",
      "419/419 [==============================] - 0s 65us/sample - loss: 0.0417 - acc: 0.9809\n",
      "Epoch 20/100\n",
      "419/419 [==============================] - 0s 78us/sample - loss: 0.0396 - acc: 0.9809\n",
      "Epoch 21/100\n",
      "419/419 [==============================] - 0s 89us/sample - loss: 0.0396 - acc: 0.9809\n",
      "Epoch 22/100\n",
      "419/419 [==============================] - 0s 74us/sample - loss: 0.0374 - acc: 0.9857\n",
      "Epoch 23/100\n",
      "419/419 [==============================] - 0s 71us/sample - loss: 0.0341 - acc: 0.9857\n",
      "Epoch 24/100\n",
      "419/419 [==============================] - 0s 62us/sample - loss: 0.0329 - acc: 0.9881\n",
      "Epoch 25/100\n",
      "419/419 [==============================] - 0s 72us/sample - loss: 0.0310 - acc: 0.9833\n",
      "Epoch 26/100\n",
      "419/419 [==============================] - 0s 66us/sample - loss: 0.0291 - acc: 0.9881\n",
      "Epoch 27/100\n",
      "419/419 [==============================] - 0s 71us/sample - loss: 0.0311 - acc: 0.9881\n",
      "Epoch 28/100\n",
      "419/419 [==============================] - 0s 63us/sample - loss: 0.0370 - acc: 0.9857\n",
      "Epoch 29/100\n",
      "419/419 [==============================] - 0s 67us/sample - loss: 0.0314 - acc: 0.9928\n",
      "Epoch 30/100\n",
      "419/419 [==============================] - ETA: 0s - loss: 3.6214e-04 - acc: 1.000 - 0s 67us/sample - loss: 0.0258 - acc: 0.9881\n",
      "Epoch 31/100\n",
      "419/419 [==============================] - 0s 76us/sample - loss: 0.0248 - acc: 0.9905\n",
      "Epoch 32/100\n",
      "419/419 [==============================] - 0s 80us/sample - loss: 0.0233 - acc: 0.9905\n",
      "Epoch 33/100\n",
      "419/419 [==============================] - 0s 77us/sample - loss: 0.0213 - acc: 0.9928\n",
      "Epoch 34/100\n",
      "419/419 [==============================] - ETA: 0s - loss: 0.0320 - acc: 0.968 - 0s 65us/sample - loss: 0.0202 - acc: 0.9928\n",
      "Epoch 35/100\n",
      "419/419 [==============================] - 0s 70us/sample - loss: 0.0176 - acc: 0.9976\n",
      "Epoch 36/100\n",
      "419/419 [==============================] - 0s 110us/sample - loss: 0.0178 - acc: 0.9952\n",
      "Epoch 37/100\n",
      "419/419 [==============================] - 0s 70us/sample - loss: 0.0157 - acc: 0.9976\n",
      "Epoch 38/100\n",
      "419/419 [==============================] - 0s 64us/sample - loss: 0.0152 - acc: 0.9976\n",
      "Epoch 39/100\n",
      "419/419 [==============================] - 0s 66us/sample - loss: 0.0139 - acc: 0.9976\n",
      "Epoch 40/100\n",
      "419/419 [==============================] - 0s 72us/sample - loss: 0.0134 - acc: 0.9976\n",
      "Epoch 41/100\n",
      "419/419 [==============================] - 0s 82us/sample - loss: 0.0123 - acc: 1.0000\n",
      "Epoch 42/100\n",
      "419/419 [==============================] - 0s 70us/sample - loss: 0.0117 - acc: 1.0000\n",
      "Epoch 43/100\n",
      "419/419 [==============================] - 0s 88us/sample - loss: 0.0110 - acc: 1.0000\n",
      "Epoch 44/100\n",
      "419/419 [==============================] - 0s 62us/sample - loss: 0.0108 - acc: 1.0000\n",
      "Epoch 45/100\n",
      "419/419 [==============================] - 0s 79us/sample - loss: 0.0136 - acc: 0.9976\n",
      "Epoch 46/100\n",
      "419/419 [==============================] - 0s 67us/sample - loss: 0.0126 - acc: 0.9976\n",
      "Epoch 47/100\n",
      "419/419 [==============================] - 0s 76us/sample - loss: 0.0112 - acc: 1.0000\n",
      "Epoch 48/100\n",
      "419/419 [==============================] - 0s 76us/sample - loss: 0.0094 - acc: 1.0000\n",
      "Epoch 49/100\n",
      "419/419 [==============================] - 0s 74us/sample - loss: 0.0082 - acc: 1.0000\n",
      "Epoch 50/100\n",
      "419/419 [==============================] - 0s 75us/sample - loss: 0.0095 - acc: 1.0000\n",
      "Epoch 51/100\n",
      "419/419 [==============================] - 0s 72us/sample - loss: 0.0118 - acc: 0.9976\n",
      "Epoch 52/100\n",
      "419/419 [==============================] - 0s 74us/sample - loss: 0.0084 - acc: 1.0000\n",
      "Epoch 53/100\n",
      "419/419 [==============================] - 0s 80us/sample - loss: 0.0061 - acc: 1.0000\n",
      "Epoch 54/100\n",
      "419/419 [==============================] - 0s 76us/sample - loss: 0.0070 - acc: 1.0000\n",
      "Epoch 55/100\n",
      "419/419 [==============================] - 0s 76us/sample - loss: 0.0054 - acc: 1.0000\n",
      "Epoch 56/100\n",
      "419/419 [==============================] - 0s 75us/sample - loss: 0.0055 - acc: 1.0000\n",
      "Epoch 57/100\n",
      "419/419 [==============================] - 0s 75us/sample - loss: 0.0045 - acc: 1.0000\n",
      "Epoch 58/100\n",
      "419/419 [==============================] - 0s 68us/sample - loss: 0.0045 - acc: 1.0000\n",
      "Epoch 59/100\n",
      "419/419 [==============================] - 0s 67us/sample - loss: 0.0042 - acc: 1.0000\n",
      "Epoch 60/100\n",
      "419/419 [==============================] - 0s 65us/sample - loss: 0.0042 - acc: 1.0000\n",
      "Epoch 61/100\n",
      "419/419 [==============================] - 0s 68us/sample - loss: 0.0037 - acc: 1.0000\n",
      "Epoch 62/100\n",
      "419/419 [==============================] - 0s 75us/sample - loss: 0.0035 - acc: 1.0000\n",
      "Epoch 63/100\n",
      "419/419 [==============================] - 0s 78us/sample - loss: 0.0037 - acc: 1.0000\n",
      "Epoch 64/100\n",
      "419/419 [==============================] - 0s 76us/sample - loss: 0.0032 - acc: 1.0000\n",
      "Epoch 65/100\n",
      "419/419 [==============================] - 0s 82us/sample - loss: 0.0030 - acc: 1.0000\n",
      "Epoch 66/100\n",
      "419/419 [==============================] - ETA: 0s - loss: 0.0017 - acc: 1.000 - 0s 74us/sample - loss: 0.0028 - acc: 1.0000\n",
      "Epoch 67/100\n",
      "419/419 [==============================] - ETA: 0s - loss: 0.0142 - acc: 1.000 - 0s 77us/sample - loss: 0.0027 - acc: 1.0000\n",
      "Epoch 68/100\n",
      "419/419 [==============================] - 0s 99us/sample - loss: 0.0026 - acc: 1.0000\n",
      "Epoch 69/100\n",
      "419/419 [==============================] - 0s 68us/sample - loss: 0.0024 - acc: 1.0000\n",
      "Epoch 70/100\n",
      "419/419 [==============================] - 0s 62us/sample - loss: 0.0024 - acc: 1.0000\n",
      "Epoch 71/100\n",
      "419/419 [==============================] - 0s 74us/sample - loss: 0.0022 - acc: 1.0000\n",
      "Epoch 72/100\n",
      "419/419 [==============================] - 0s 81us/sample - loss: 0.0023 - acc: 1.0000\n",
      "Epoch 73/100\n",
      "419/419 [==============================] - 0s 81us/sample - loss: 0.0023 - acc: 1.0000\n",
      "Epoch 74/100\n",
      "419/419 [==============================] - 0s 80us/sample - loss: 0.0022 - acc: 1.0000\n",
      "Epoch 75/100\n",
      "419/419 [==============================] - 0s 59us/sample - loss: 0.0019 - acc: 1.0000\n",
      "Epoch 76/100\n",
      "419/419 [==============================] - 0s 73us/sample - loss: 0.0018 - acc: 1.0000\n",
      "Epoch 77/100\n",
      "419/419 [==============================] - 0s 81us/sample - loss: 0.0018 - acc: 1.0000\n",
      "Epoch 78/100\n",
      "419/419 [==============================] - 0s 85us/sample - loss: 0.0016 - acc: 1.0000\n",
      "Epoch 79/100\n",
      "419/419 [==============================] - 0s 85us/sample - loss: 0.0016 - acc: 1.0000\n",
      "Epoch 80/100\n",
      "419/419 [==============================] - 0s 71us/sample - loss: 0.0016 - acc: 1.0000\n",
      "Epoch 81/100\n"
     ]
    },
    {
     "name": "stdout",
     "output_type": "stream",
     "text": [
      "419/419 [==============================] - 0s 67us/sample - loss: 0.0015 - acc: 1.0000\n",
      "Epoch 82/100\n",
      "419/419 [==============================] - 0s 68us/sample - loss: 0.0014 - acc: 1.0000\n",
      "Epoch 83/100\n",
      "419/419 [==============================] - 0s 56us/sample - loss: 0.0013 - acc: 1.0000\n",
      "Epoch 84/100\n",
      "419/419 [==============================] - 0s 57us/sample - loss: 0.0013 - acc: 1.0000\n",
      "Epoch 85/100\n",
      "419/419 [==============================] - 0s 66us/sample - loss: 0.0014 - acc: 1.0000\n",
      "Epoch 86/100\n",
      "419/419 [==============================] - 0s 59us/sample - loss: 0.0012 - acc: 1.0000\n",
      "Epoch 87/100\n",
      "419/419 [==============================] - 0s 54us/sample - loss: 0.0012 - acc: 1.0000\n",
      "Epoch 88/100\n",
      "419/419 [==============================] - 0s 62us/sample - loss: 0.0011 - acc: 1.0000\n",
      "Epoch 89/100\n",
      "419/419 [==============================] - 0s 62us/sample - loss: 0.0011 - acc: 1.0000\n",
      "Epoch 90/100\n",
      "419/419 [==============================] - 0s 55us/sample - loss: 0.0010 - acc: 1.0000\n",
      "Epoch 91/100\n",
      "419/419 [==============================] - 0s 55us/sample - loss: 9.9517e-04 - acc: 1.0000\n",
      "Epoch 92/100\n",
      "419/419 [==============================] - 0s 60us/sample - loss: 0.0011 - acc: 1.0000\n",
      "Epoch 93/100\n",
      "419/419 [==============================] - 0s 64us/sample - loss: 0.0011 - acc: 1.0000\n",
      "Epoch 94/100\n",
      "419/419 [==============================] - 0s 62us/sample - loss: 9.6607e-04 - acc: 1.0000\n",
      "Epoch 95/100\n",
      "419/419 [==============================] - 0s 60us/sample - loss: 8.5865e-04 - acc: 1.0000\n",
      "Epoch 96/100\n",
      "419/419 [==============================] - 0s 60us/sample - loss: 8.4965e-04 - acc: 1.0000\n",
      "Epoch 97/100\n",
      "419/419 [==============================] - 0s 57us/sample - loss: 8.8326e-04 - acc: 1.0000\n",
      "Epoch 98/100\n",
      "419/419 [==============================] - 0s 64us/sample - loss: 7.3852e-04 - acc: 1.0000\n",
      "Epoch 99/100\n",
      "419/419 [==============================] - 0s 61us/sample - loss: 7.2913e-04 - acc: 1.0000\n",
      "Epoch 100/100\n",
      "419/419 [==============================] - 0s 68us/sample - loss: 6.9782e-04 - acc: 1.0000\n"
     ]
    },
    {
     "data": {
      "text/plain": [
       "<tensorflow.python.keras.callbacks.History at 0x190787953c8>"
      ]
     },
     "execution_count": 9,
     "metadata": {},
     "output_type": "execute_result"
    }
   ],
   "source": [
    "model.fit(x_f_train,y_f_train, epochs = 100)"
   ]
  },
  {
   "cell_type": "markdown",
   "metadata": {},
   "source": [
    "## -- Checking Trained Data For Overfitting and Underfitting over tested data"
   ]
  },
  {
   "cell_type": "code",
   "execution_count": 10,
   "metadata": {},
   "outputs": [
    {
     "name": "stdout",
     "output_type": "stream",
     "text": [
      "280/280 [==============================] - 0s 184us/sample - loss: 0.6151 - acc: 0.9607\n",
      "Loss % = 61.506431534591165 , Accuracy % = 96.07142806053162 \n"
     ]
    }
   ],
   "source": [
    "val_loss,val_acc = model.evaluate(x_f_test,y_f_test)\n",
    "print(\"Loss % = {} , Accuracy % = {} \".format(val_loss*100,val_acc*100))"
   ]
  },
  {
   "cell_type": "markdown",
   "metadata": {},
   "source": [
    "## -- Predicting Breast Cancer Type of Test Data from Trained Data "
   ]
  },
  {
   "cell_type": "code",
   "execution_count": 11,
   "metadata": {},
   "outputs": [],
   "source": [
    "# [1,0] = Benign\n",
    "# [0,1] = Malignant\n",
    "\n",
    "arr = np.array([[1,0],[0,1]])"
   ]
  },
  {
   "cell_type": "code",
   "execution_count": 14,
   "metadata": {},
   "outputs": [
    {
     "name": "stdout",
     "output_type": "stream",
     "text": [
      "_____________________________________________________\n",
      "_____________________________________________________\n",
      "Predicted NO. of Benign Breast Cancers = 190\n",
      "Predicted NO. of Malignant Breast Cancers = 90\n",
      "Total tested data = 280\n",
      "_____________________________________________________\n",
      "Original NO. of Benign Breast Cancers = 191\n",
      "Original NO. of Malignant Breast Cancers = 89\n",
      "Total tested data = 280\n",
      "_____________________________________________________\n",
      "Accuracy = 99.47643979057592%\n"
     ]
    }
   ],
   "source": [
    "z = np.round(model.predict(x_f_test))\n",
    "\n",
    "print('_____________________________________________________')\n",
    "#print(\"Prediction : P-Class : O-Class \")\n",
    "\n",
    "c1=c2=c3=c4=0  #counter variables\n",
    "\n",
    "for i in range(0,len(z)):\n",
    "    if np.array_equal(z[i],arr[0]):\n",
    "        #print(\"{}  :  {} :  {}\".format(z[i],0,y_test[i]))\n",
    "        c1+=1\n",
    "    elif np.array_equal(z[i],arr[1]):\n",
    "        #print(\"{}  :  {} :  {}\".format(z[i],1,y_test[i]))\n",
    "        c2+=1\n",
    "\n",
    "\n",
    "print('_____________________________________________________')\n",
    "print(\"Predicted NO. of Benign Breast Cancers = {}\".format(c1))\n",
    "print(\"Predicted NO. of Malignant Breast Cancers = {}\".format(c2))\n",
    "print(\"Total tested data = {}\".format(len(z)))\n",
    "\n",
    "m = y_test\n",
    "\n",
    "print('_____________________________________________________')\n",
    "\n",
    "for i in range(0,len(m)):\n",
    "    if m[i] == 0:\n",
    "        c3+=1\n",
    "    elif m[i] == 1 :\n",
    "        c4+=1 \n",
    "\n",
    "\n",
    "\n",
    "print(\"Original NO. of Benign Breast Cancers = {}\".format(c3))\n",
    "print(\"Original NO. of Malignant Breast Cancers = {}\".format(c4))\n",
    "print(\"Total tested data = {}\".format(len(x_test)))\n",
    "\n",
    "print('_____________________________________________________')\n",
    "print('Accuracy = {}%'.format((c1/c3)*100))"
   ]
  }
 ],
 "metadata": {
  "kernelspec": {
   "display_name": "Python 3",
   "language": "python",
   "name": "python3"
  },
  "language_info": {
   "codemirror_mode": {
    "name": "ipython",
    "version": 3
   },
   "file_extension": ".py",
   "mimetype": "text/x-python",
   "name": "python",
   "nbconvert_exporter": "python",
   "pygments_lexer": "ipython3",
   "version": "3.7.3"
  }
 },
 "nbformat": 4,
 "nbformat_minor": 2
}
